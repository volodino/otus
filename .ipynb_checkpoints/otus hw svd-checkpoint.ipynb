{
 "cells": [
  {
   "cell_type": "code",
   "execution_count": 69,
   "metadata": {},
   "outputs": [],
   "source": [
    "import numpy as np\n",
    "from numpy import array\n",
    "from numpy import diag\n",
    "from numpy import dot\n",
    "from numpy import zeros\n",
    "from scipy.linalg import svd"
   ]
  },
  {
   "cell_type": "code",
   "execution_count": 32,
   "metadata": {},
   "outputs": [],
   "source": [
    "# # Цель: Выполнить сингулярное разложение в python и записать получившуюся матрицу преобразования для следующих матриц: \n",
    "# # 1)A=[[3, 7], [5, 2]] \n",
    "# # 2)B=[[0, 1, 3], [2, 3, 1], [0, 1, 0]] \n",
    "# 3) C = [\n",
    "#     [5, 7, 6, 4, 2,],\n",
    "#     [1, 3, 4, 1, 3,],\n",
    "#     [3, 4, 5, 4, 1,],\n",
    "# ]"
   ]
  },
  {
   "cell_type": "code",
   "execution_count": 66,
   "metadata": {},
   "outputs": [
    {
     "data": {
      "text/plain": [
       "array([[3, 7],\n",
       "       [5, 2]])"
      ]
     },
     "execution_count": 66,
     "metadata": {},
     "output_type": "execute_result"
    }
   ],
   "source": [
    "a = np.array([[3, 7], [5, 2]])\n",
    "u,s,vt = svd(a)\n",
    "Sigma = np.diag(s)\n",
    "res = u.dot(Sigma.dot(vt))\n",
    "res.astype(int)"
   ]
  },
  {
   "cell_type": "code",
   "execution_count": 67,
   "metadata": {},
   "outputs": [
    {
     "data": {
      "text/plain": [
       "array([[0, 1, 3],\n",
       "       [2, 3, 1],\n",
       "       [0, 1, 0]])"
      ]
     },
     "execution_count": 67,
     "metadata": {},
     "output_type": "execute_result"
    }
   ],
   "source": [
    "b = np.array([\n",
    "    [0, 1, 3], \n",
    "    [2, 3, 1],\n",
    "    [0, 1, 0]\n",
    "])\n",
    "u,s,vt = svd(b)\n",
    "Sigma = diag(s)\n",
    "res = u.dot(Sigma.dot(vt))\n",
    "res.astype(int)"
   ]
  },
  {
   "cell_type": "code",
   "execution_count": 63,
   "metadata": {},
   "outputs": [
    {
     "data": {
      "text/plain": [
       "array([[5, 7, 6, 4, 2],\n",
       "       [1, 3, 4, 1, 3],\n",
       "       [3, 4, 5, 4, 1]])"
      ]
     },
     "execution_count": 63,
     "metadata": {},
     "output_type": "execute_result"
    }
   ],
   "source": [
    "c = array([\n",
    "    [5, 7, 6, 4, 2,],\n",
    "    [1, 3, 4, 1, 3,],\n",
    "    [3, 4, 5, 4, 1,],\n",
    "])\n",
    "u, s, vt = svd(c)\n",
    "Sigma = zeros((c.shape[0], c.shape[1]))\n",
    "Sigma[:c.shape[1], :c.shape[0]] = diag(s)\n",
    "check = U.dot(Sigma.dot(VT))\n",
    "check.astype(int)"
   ]
  }
 ],
 "metadata": {
  "kernelspec": {
   "display_name": "Python 3",
   "language": "python",
   "name": "python3"
  },
  "language_info": {
   "codemirror_mode": {
    "name": "ipython",
    "version": 3
   },
   "file_extension": ".py",
   "mimetype": "text/x-python",
   "name": "python",
   "nbconvert_exporter": "python",
   "pygments_lexer": "ipython3",
   "version": "3.7.4"
  }
 },
 "nbformat": 4,
 "nbformat_minor": 2
}
